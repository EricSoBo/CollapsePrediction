{
 "cells": [
  {
   "cell_type": "code",
   "execution_count": null,
   "id": "0ee8d5b5",
   "metadata": {},
   "outputs": [],
   "source": []
  },
  {
   "cell_type": "code",
   "execution_count": null,
   "id": "8cbb6340",
   "metadata": {},
   "outputs": [],
   "source": [
    "# Constants\n",
    "\n",
    "x_c = 0.4\n",
    "y_c = 2.009\n",
    "x_p = 0.08\n",
    "y_p = 2.876\n",
    "R_0 = 0.16129\n",
    "C_0 = 0.5"
   ]
  },
  {
   "cell_type": "code",
   "execution_count": null,
   "id": "1e3ab3df",
   "metadata": {},
   "outputs": [],
   "source": [
    "# Food Chain (3 Species)\n",
    "\n",
    "# Plants [ R(t) ]\n",
    "# Herbivores [ C(t) ]\n",
    "# Carnivores [ P(t) ]\n",
    "\n",
    "# Solving the coupled differential equations through euler's method\n",
    "# Assuming R(0) = 1, C(0) = 0.21, P(0) = 0.6\n",
    "\n",
    "import numpy as np\n",
    "\n",
    "def dR(R, C, K):\n",
    "    return ( R*(1-(R/K)) - ((x_c*y_c*C*R)/(R + R_0)) )\n",
    "\n",
    "def dC(C, R, P):\n",
    "    return ( x_c*C*( (y_c*R)/(R + R_0) - 1) - ((x_p*y_p*P*C)/(C + C_0)) )\n",
    "\n",
    "def dP(P, C):\n",
    "    return ( x_p*P*( ((y_p*C)/(C + C_0)) - 1) )\n",
    "\n",
    "def EulerMethod(y_0, time, K=0.974):\n",
    "    R = np.zeros(15000)\n",
    "    C = np.zeros(15000)\n",
    "    P = np.zeros(15000)\n",
    "    R[0] = 1\n",
    "    C[0] = 0.21\n",
    "    P[0] = 0.6\n",
    "    t = np.linspace(0, time, 15000, endpoint=True)\n",
    "    for i in range(1, len(t)):\n",
    "        dt = t[i] - t[i-1]\n",
    "        R[i] = R[i-1] + dR(R[i-1], C[i-1], K)*dt\n",
    "        C[i] = C[i-1] + dC(C[i-1], R[i-1], P[i-1])*dt\n",
    "        P[i] = P[i-1] + dP(P[i-1], C[i-1])*dt\n",
    "    return R, C, P, t"
   ]
  },
  {
   "cell_type": "code",
   "execution_count": null,
   "id": "9327216f",
   "metadata": {},
   "outputs": [],
   "source": [
    "import matplotlib.pyplot as plt\n",
    "\n",
    "K = 0.974\n",
    "\n",
    "R, C, P, t = EulerMethod(1, 3000, K) # K = 0.974\n",
    "\n",
    "%matplotlib inline\n",
    "plt.plot(t, P)\n",
    "\n",
    "# Note that the system suddenly collapses at values of K >= 0.974"
   ]
  },
  {
   "cell_type": "code",
   "execution_count": null,
   "id": "611e97d8",
   "metadata": {},
   "outputs": [],
   "source": [
    "K = 0.96\n",
    "R, C, P, t = EulerMethod(1, 3000, K) # K = 0.96"
   ]
  },
  {
   "cell_type": "code",
   "execution_count": null,
   "id": "85778b1f",
   "metadata": {},
   "outputs": [],
   "source": [
    "plt.plot(t, P)"
   ]
  },
  {
   "cell_type": "code",
   "execution_count": null,
   "id": "6824f584",
   "metadata": {},
   "outputs": [],
   "source": [
    "max(P)"
   ]
  },
  {
   "cell_type": "code",
   "execution_count": null,
   "id": "cb59268a",
   "metadata": {},
   "outputs": [],
   "source": [
    "# Use Deep Learning to forecast time-series\n",
    "# Not using Reservoir Computing, just SimpleRNN\n",
    "\n",
    "import tensorflow as tf\n",
    "\n",
    "# Parameters\n",
    "window_size = 20\n",
    "batch_size = 32\n",
    "shuffle_buffer_size = 1000\n",
    "\n",
    "# Build the Model\n",
    "model = tf.keras.models.Sequential([\n",
    "  tf.keras.layers.Conv1D(filters=64, kernel_size=3,\n",
    "                      strides=1,\n",
    "                      activation=\"relu\",\n",
    "                      padding='causal',\n",
    "                      input_shape=[window_size, 1]),\n",
    "  tf.keras.layers.SimpleRNN(64, return_sequences=True),\n",
    "  tf.keras.layers.SimpleRNN(64, return_sequences=True),\n",
    "  tf.keras.layers.SimpleRNN(64),\n",
    "  tf.keras.layers.Dense(30, activation=\"relu\"),\n",
    "  tf.keras.layers.Dense(10, activation=\"relu\"),\n",
    "  tf.keras.layers.Dense(1),\n",
    "  tf.keras.layers.Lambda(lambda x: x * max(P))\n",
    "])\n",
    "\n",
    "# Print the model summary\n",
    "model.summary()"
   ]
  },
  {
   "cell_type": "code",
   "execution_count": null,
   "id": "9c5b9940",
   "metadata": {},
   "outputs": [],
   "source": [
    "def windowed_dataset(series, window_size, batch_size, shuffle_buffer):\n",
    "    \"\"\"Generates dataset windows\n",
    "\n",
    "    Args:\n",
    "      series (array of float) - contains the values of the time series\n",
    "      window_size (int) - the number of time steps to include in the feature\n",
    "      batch_size (int) - the batch size\n",
    "      shuffle_buffer(int) - buffer size to use for the shuffle method\n",
    "\n",
    "    Returns:\n",
    "      dataset (TF Dataset) - TF Dataset containing time windows\n",
    "    \"\"\"\n",
    "  \n",
    "    # Generate a TF Dataset from the series values\n",
    "    dataset = tf.data.Dataset.from_tensor_slices(series)\n",
    "    \n",
    "    # Window the data but only take those with the specified size\n",
    "    dataset = dataset.window(window_size + 1, shift=1, drop_remainder=True)\n",
    "    \n",
    "    # Flatten the windows by putting its elements in a single batch\n",
    "    dataset = dataset.flat_map(lambda window: window.batch(window_size + 1))\n",
    "\n",
    "    # Create tuples with features and labels \n",
    "    dataset = dataset.map(lambda window: (window[:-1], window[-1]))\n",
    "\n",
    "    # Shuffle the windows\n",
    "    dataset = dataset.shuffle(shuffle_buffer)\n",
    "    \n",
    "    # Create batches of windows\n",
    "    dataset = dataset.batch(batch_size).prefetch(1)\n",
    "    \n",
    "    return dataset"
   ]
  },
  {
   "cell_type": "code",
   "execution_count": null,
   "id": "d764d704",
   "metadata": {},
   "outputs": [],
   "source": [
    "def plot_series(time, series, format=\"-\", start=0, end=None):\n",
    "    \"\"\"\n",
    "    Visualizes time series data\n",
    "\n",
    "    Args:\n",
    "      time (array of int) - contains the time steps\n",
    "      series (array of int) - contains the measurements for each time step\n",
    "      format - line style when plotting the graph\n",
    "      start - first time step to plot\n",
    "      end - last time step to plot\n",
    "    \"\"\"\n",
    "\n",
    "    # Setup dimensions of the graph figure\n",
    "    plt.figure(figsize=(10, 6))\n",
    "    \n",
    "    if type(series) is tuple:\n",
    "\n",
    "      for series_num in series:\n",
    "        # Plot the time series data\n",
    "        plt.plot(time[start:end], series_num[start:end], format)\n",
    "\n",
    "    else:\n",
    "      # Plot the time series data\n",
    "      plt.plot(time[start:end], series[start:end], format)\n",
    "\n",
    "    # Label the x-axis\n",
    "    plt.xlabel(\"Time\")\n",
    "\n",
    "    # Label the y-axis\n",
    "    plt.ylabel(\"Value\")\n",
    "\n",
    "    # Overlay a grid on the graph\n",
    "    plt.grid(True)\n",
    "\n",
    "    # Draw the graph on screen\n",
    "    plt.show()"
   ]
  },
  {
   "cell_type": "code",
   "execution_count": null,
   "id": "7d7332d3",
   "metadata": {},
   "outputs": [],
   "source": [
    "# Define the split time\n",
    "split_time = 13000\n",
    "\n",
    "# Get the train set \n",
    "time_train = t[:split_time]\n",
    "x_train = P[:split_time]\n",
    "\n",
    "# Get the validation set\n",
    "time_valid = t[split_time:]\n",
    "x_valid = P[split_time:]"
   ]
  },
  {
   "cell_type": "code",
   "execution_count": null,
   "id": "7c3419ae",
   "metadata": {},
   "outputs": [],
   "source": [
    "# Generate the dataset windows\n",
    "dataset = windowed_dataset(x_train, window_size, batch_size, shuffle_buffer_size)"
   ]
  },
  {
   "cell_type": "code",
   "execution_count": null,
   "id": "6d6f21b2",
   "metadata": {},
   "outputs": [],
   "source": [
    "# Get initial weights\n",
    "init_weights = model.get_weights()"
   ]
  },
  {
   "cell_type": "code",
   "execution_count": null,
   "id": "3b1422e5",
   "metadata": {},
   "outputs": [],
   "source": [
    "# Set the learning rate scheduler\n",
    "lr_schedule = tf.keras.callbacks.LearningRateScheduler(\n",
    "    lambda epoch: 1e-8 * 10**(epoch / 20))\n",
    "\n",
    "# Initialize the optimizer\n",
    "optimizer = tf.keras.optimizers.SGD(momentum=0.9)\n",
    "\n",
    "# Set the training parameters\n",
    "model.compile(loss=tf.keras.losses.Huber(), optimizer=optimizer)\n",
    "\n",
    "# Train the model\n",
    "history = model.fit(dataset, epochs=150, callbacks=[lr_schedule])"
   ]
  },
  {
   "cell_type": "code",
   "execution_count": null,
   "id": "7008741e",
   "metadata": {},
   "outputs": [],
   "source": [
    "# Define the learning rate array\n",
    "lrs = 1e-8 * (10 ** (np.arange(150) / 20))\n",
    "\n",
    "# Set the figure size\n",
    "plt.figure(figsize=(10, 6))\n",
    "\n",
    "# Set the grid\n",
    "plt.grid(True)\n",
    "\n",
    "# Plot the loss in log scale\n",
    "plt.semilogx(lrs, history.history[\"loss\"])\n",
    "\n",
    "# Increase the tickmarks size\n",
    "plt.tick_params('both', length=10, width=1, which='both')\n",
    "\n",
    "# Set the plot boundaries\n",
    "plt.axis([1e-8, 1, 0, 0.006])"
   ]
  },
  {
   "cell_type": "code",
   "execution_count": null,
   "id": "406e163c",
   "metadata": {},
   "outputs": [],
   "source": [
    "# Reset states generated by Keras\n",
    "tf.keras.backend.clear_session()\n",
    "\n",
    "# Reset the weights\n",
    "model.set_weights(init_weights)"
   ]
  },
  {
   "cell_type": "code",
   "execution_count": null,
   "id": "ad817dae",
   "metadata": {},
   "outputs": [],
   "source": [
    "# Set the learning rate\n",
    "learning_rate = 3e-4\n",
    "\n",
    "# Set the optimizer \n",
    "optimizer = tf.keras.optimizers.SGD(learning_rate=learning_rate, momentum=0.9)\n",
    "\n",
    "# Set the training parameters\n",
    "model.compile(loss=tf.keras.losses.Huber(),\n",
    "              optimizer=optimizer,\n",
    "              metrics=[\"mae\"])"
   ]
  },
  {
   "cell_type": "code",
   "execution_count": null,
   "id": "204766d2",
   "metadata": {},
   "outputs": [],
   "source": [
    "# Train the model\n",
    "history = model.fit(dataset,epochs=100)"
   ]
  },
  {
   "cell_type": "code",
   "execution_count": null,
   "id": "3e208bd6",
   "metadata": {},
   "outputs": [],
   "source": [
    "# Initialize a list\n",
    "forecast = []\n",
    "\n",
    "# Reduce the original series\n",
    "forecast_series = P[split_time - window_size:]\n",
    "\n",
    "# Use the model to predict data points per window size\n",
    "for time in range(len(forecast_series) - window_size):\n",
    "  forecast.append(model.predict(forecast_series[time:time + window_size][np.newaxis]))\n",
    "\n",
    "# Convert to a numpy array and drop single dimensional axes\n",
    "results = np.array(forecast).squeeze()\n",
    "\n",
    "# Plot the results\n",
    "plot_series(time_valid, (x_valid, results))"
   ]
  },
  {
   "cell_type": "code",
   "execution_count": null,
   "id": "70604bd3",
   "metadata": {},
   "outputs": [],
   "source": [
    "# That was a very good prediction\n",
    "# Can we do something about the bifurcation parameter ?\n",
    "# Can we use it on the model as input ?\n",
    "# Yes, of course\n",
    "\n",
    "tf.keras.backend.clear_session()\n",
    "\n",
    "# Time series input\n",
    "inputA = tf.keras.layers.Input(shape=(window_size, 1))\n",
    "conv1d_layer = tf.keras.layers.Conv1D(filters=64, kernel_size=3,\n",
    "                                       strides=1,\n",
    "                                       activation=\"relu\",\n",
    "                                       padding='causal')\n",
    "simple_rnn1_layer = tf.keras.layers.SimpleRNN(64, return_sequences=True)\n",
    "simple_rnn2_layer = tf.keras.layers.SimpleRNN(64, return_sequences=True)\n",
    "simple_rnn3_layer = tf.keras.layers.SimpleRNN(64)\n",
    "\n",
    "# Bifurcation parameter input\n",
    "inputB = tf.keras.layers.Input(shape=(1,))\n",
    "\n",
    "# Fully connected layer\n",
    "dense1_layer = tf.keras.layers.Dense(30, activation=\"relu\")\n",
    "dense2_layer = tf.keras.layers.Dense(10, activation=\"relu\")\n",
    "dense3_layer = tf.keras.layers.Dense(1)\n",
    "\n",
    "# Model\n",
    "x = conv1d_layer(inputA)\n",
    "x = simple_rnn1_layer(x)\n",
    "x = simple_rnn2_layer(x)\n",
    "x = simple_rnn3_layer(x)\n",
    "\n",
    "# Concatenate the output of the RNN with the bifurcation parameter\n",
    "x = tf.keras.layers.Concatenate()([x, inputB])\n",
    "\n",
    "# Dense layers\n",
    "x = dense1_layer(x)\n",
    "x = dense2_layer(x)\n",
    "x = dense3_layer(x)\n",
    "\n",
    "# Final model\n",
    "model = tf.keras.models.Model(inputs=[inputA, inputB], outputs=x)\n",
    "\n",
    "learning_rate = 3e-4\n",
    "\n",
    "optimizer = tf.keras.optimizers.SGD(learning_rate=learning_rate, momentum=0.9)\n",
    "\n",
    "model.compile(loss=tf.keras.losses.Huber(),\n",
    "              optimizer=optimizer,\n",
    "              metrics=[\"mae\"])"
   ]
  },
  {
   "cell_type": "code",
   "execution_count": null,
   "id": "3fe462b0",
   "metadata": {},
   "outputs": [],
   "source": [
    "def windowed_dataset(series, window_size, batch_size, shuffle_buffer, K):\n",
    "    \"\"\"Generates dataset windows\n",
    "\n",
    "    Args:\n",
    "      series (array of float) - contains the values of the time series\n",
    "      window_size (int) - the number of time steps to include in the feature\n",
    "      batch_size (int) - the batch size\n",
    "      shuffle_buffer(int) - buffer size to use for the shuffle method\n",
    "\n",
    "    Returns:\n",
    "      dataset (TF Dataset) - TF Dataset containing time windows\n",
    "    \"\"\"\n",
    "  \n",
    "    # Generate a TF Dataset from the series values\n",
    "    dataset = tf.data.Dataset.from_tensor_slices(series)\n",
    "    \n",
    "    # Window the data but only take those with the specified size\n",
    "    dataset = dataset.window(window_size + 1, shift=1, drop_remainder=True)\n",
    "    \n",
    "    # Flatten the windows by putting its elements in a single batch\n",
    "    dataset = dataset.flat_map(lambda window: window.batch(window_size + 1))\n",
    "\n",
    "    # Create tuples with features and labels \n",
    "    dataset = dataset.map(lambda window: ((window[:-1], K), window[-1]))\n",
    "\n",
    "    # Shuffle the windows\n",
    "    dataset = dataset.shuffle(shuffle_buffer)\n",
    "    \n",
    "    # Create batches of windows\n",
    "    dataset = dataset.batch(batch_size).prefetch(1)\n",
    "    \n",
    "    return dataset"
   ]
  },
  {
   "cell_type": "code",
   "execution_count": null,
   "id": "eb8557ad",
   "metadata": {},
   "outputs": [],
   "source": [
    "dataset = windowed_dataset(x_train, window_size, batch_size, shuffle_buffer_size, K)"
   ]
  },
  {
   "cell_type": "code",
   "execution_count": null,
   "id": "88197199",
   "metadata": {},
   "outputs": [],
   "source": [
    "model.fit(dataset, epochs=100)"
   ]
  },
  {
   "cell_type": "code",
   "execution_count": null,
   "id": "65a2b7cf",
   "metadata": {},
   "outputs": [],
   "source": [
    "# Initialize a list\n",
    "forecast = []\n",
    "\n",
    "# Reduce the original series\n",
    "forecast_series = P[split_time - window_size:]\n",
    "\n",
    "# Use the model to predict data points per window size\n",
    "for time in range(len(forecast_series) - window_size):\n",
    "  forecast.append(model.predict([forecast_series[time:time + window_size][np.newaxis], np.array([[K]])]))\n",
    "\n",
    "# Convert to a numpy array and drop single dimensional axes\n",
    "results = np.array(forecast).squeeze()\n",
    "\n",
    "# Plot the results\n",
    "plot_series(time_valid, (x_valid, results))"
   ]
  },
  {
   "cell_type": "code",
   "execution_count": null,
   "id": "ab1a1b27",
   "metadata": {},
   "outputs": [],
   "source": [
    "# Now we can use the bifurcation parameter as input to the model\n",
    "# We can vary the bifurcation parameter and see how the model behaves\n",
    "\n",
    "K = 0.97\n",
    "R, C, P, t = EulerMethod(1, 3000, K)\n",
    "plt.plot(t, P)"
   ]
  },
  {
   "cell_type": "code",
   "execution_count": null,
   "id": "d3cafb10",
   "metadata": {},
   "outputs": [],
   "source": [
    "def train_model(P, t, K):\n",
    "    split_time = 13000\n",
    "    time_train = t[:split_time]\n",
    "    x_train = P[:split_time]\n",
    "    time_valid = t[split_time:]\n",
    "    x_valid = P[split_time:]\n",
    "    dataset = windowed_dataset(x_train, window_size, batch_size, shuffle_buffer_size, K)\n",
    "    model.fit(dataset, epochs=100)\n",
    "    forecast = []\n",
    "    forecast_series = P[split_time - window_size:]\n",
    "    for time in range(len(forecast_series) - window_size):\n",
    "        forecast.append(model.predict([forecast_series[time:time + window_size][np.newaxis], np.array([[K]])]))\n",
    "    results = np.array(forecast).squeeze()\n",
    "    plot_series(time_valid, (x_valid, results))\n",
    "    "
   ]
  },
  {
   "cell_type": "code",
   "execution_count": null,
   "id": "cf74cde9",
   "metadata": {},
   "outputs": [],
   "source": [
    "train_model(P, t, K)"
   ]
  },
  {
   "cell_type": "code",
   "execution_count": null,
   "id": "e66ca1fd",
   "metadata": {},
   "outputs": [],
   "source": [
    "K = 0.971\n",
    "R, C, P, t = EulerMethod(1, 3000, K)\n",
    "plt.plot(t, P)"
   ]
  },
  {
   "cell_type": "code",
   "execution_count": null,
   "id": "e88a30eb",
   "metadata": {},
   "outputs": [],
   "source": [
    "train_model(P, t, K)"
   ]
  },
  {
   "cell_type": "code",
   "execution_count": null,
   "id": "3dd4152c",
   "metadata": {},
   "outputs": [],
   "source": [
    "K = 0.972\n",
    "R, C, P, t = EulerMethod(1, 3000, K)\n",
    "plt.plot(t, P)"
   ]
  },
  {
   "cell_type": "code",
   "execution_count": null,
   "id": "3cbfb6de",
   "metadata": {},
   "outputs": [],
   "source": [
    "train_model(P, t, K)"
   ]
  },
  {
   "cell_type": "code",
   "execution_count": null,
   "id": "a257e99c",
   "metadata": {},
   "outputs": [],
   "source": [
    "K = 0.973\n",
    "R, C, P, t = EulerMethod(1, 3000, K)\n",
    "plt.plot(t, P)"
   ]
  },
  {
   "cell_type": "code",
   "execution_count": null,
   "id": "a11aacfb",
   "metadata": {},
   "outputs": [],
   "source": [
    "train_model(P, t, K)"
   ]
  },
  {
   "cell_type": "code",
   "execution_count": null,
   "id": "9fdd3fd4",
   "metadata": {},
   "outputs": [],
   "source": [
    "K = 0.974\n",
    "R, C, P, t = EulerMethod(1, 3000, K)\n",
    "plt.plot(t, P)"
   ]
  },
  {
   "cell_type": "code",
   "execution_count": null,
   "id": "3bbb29cd",
   "metadata": {},
   "outputs": [],
   "source": [
    "train_model(P, t, K)"
   ]
  },
  {
   "cell_type": "code",
   "execution_count": null,
   "id": "3f295e2f",
   "metadata": {},
   "outputs": [],
   "source": [
    "K = 0.975\n",
    "R, C, P, t = EulerMethod(1, 3000, K)\n",
    "plt.plot(t, P)"
   ]
  },
  {
   "cell_type": "code",
   "execution_count": null,
   "id": "33fbab9c",
   "metadata": {},
   "outputs": [],
   "source": [
    "train_model(P, t, K)"
   ]
  },
  {
   "cell_type": "code",
   "execution_count": null,
   "id": "7927c29b",
   "metadata": {},
   "outputs": [],
   "source": [
    "K = 0.976\n",
    "R, C, P, t = EulerMethod(1, 3000, K)\n",
    "plt.plot(t, P)"
   ]
  },
  {
   "cell_type": "code",
   "execution_count": null,
   "id": "65d81c44",
   "metadata": {},
   "outputs": [],
   "source": [
    "train_model(P, t, K)"
   ]
  },
  {
   "cell_type": "code",
   "execution_count": null,
   "id": "d8f728b9",
   "metadata": {},
   "outputs": [],
   "source": [
    "K = 0.977\n",
    "R, C, P, t = EulerMethod(1, 3000, K)\n",
    "plt.plot(t, P)"
   ]
  },
  {
   "cell_type": "code",
   "execution_count": null,
   "id": "ee332e92",
   "metadata": {},
   "outputs": [],
   "source": [
    "train_model(P, t, K)"
   ]
  },
  {
   "cell_type": "code",
   "execution_count": null,
   "id": "b8ab3ba0",
   "metadata": {},
   "outputs": [],
   "source": [
    "K = 0.978\n",
    "R, C, P, t = EulerMethod(1, 3000, K)\n",
    "plt.plot(t, P)"
   ]
  },
  {
   "cell_type": "code",
   "execution_count": null,
   "id": "440d79bb",
   "metadata": {},
   "outputs": [],
   "source": [
    "train_model(P, t, K)"
   ]
  },
  {
   "cell_type": "code",
   "execution_count": null,
   "id": "e8275e7b",
   "metadata": {},
   "outputs": [],
   "source": [
    "# Let's try with unseen K values\n",
    "# First K = 0,99\n",
    "\n",
    "# What we expect\n",
    "K = 0.99\n",
    "R, C, P, t = EulerMethod(1, 3000, K)\n",
    "plt.plot(t, P)"
   ]
  },
  {
   "cell_type": "code",
   "execution_count": null,
   "id": "205a431a",
   "metadata": {},
   "outputs": [],
   "source": [
    "# What the model predict\n",
    "\n",
    "forecast = []\n",
    "forecast_series = P.copy()\n",
    "for time in range(len(forecast_series) - window_size):\n",
    "  forecast.append(model.predict([forecast_series[time:time + window_size][np.newaxis], np.array([[K]])]))\n",
    "results = np.array(forecast).squeeze()\n",
    "plot_series(t[window_size:], results)"
   ]
  },
  {
   "cell_type": "code",
   "execution_count": null,
   "id": "c2d348e9",
   "metadata": {},
   "outputs": [],
   "source": [
    "# Comparison\n",
    "\n",
    "plot_series(t[window_size:], (P[window_size:], results))"
   ]
  },
  {
   "cell_type": "code",
   "execution_count": null,
   "id": "21b35535",
   "metadata": {},
   "outputs": [],
   "source": [
    "# Second K = 0,94\n",
    "\n",
    "# What we expect\n",
    "K = 0.94\n",
    "R, C, P, t = EulerMethod(1, 3000, K)\n",
    "plt.plot(t, P)"
   ]
  },
  {
   "cell_type": "code",
   "execution_count": null,
   "id": "f8c2f7f9",
   "metadata": {},
   "outputs": [],
   "source": [
    "# What the model predict\n",
    "\n",
    "forecast = []\n",
    "forecast_series = P.copy()\n",
    "for time in range(len(forecast_series) - window_size):\n",
    "  forecast.append(model.predict([forecast_series[time:time + window_size][np.newaxis], np.array([[K]])]))\n",
    "results = np.array(forecast).squeeze()\n",
    "plot_series(t[window_size:], results)"
   ]
  },
  {
   "cell_type": "code",
   "execution_count": null,
   "id": "1c4bddfa",
   "metadata": {},
   "outputs": [],
   "source": [
    "# Comparison\n",
    "\n",
    "plot_series(t[window_size:], (P[window_size:], results))"
   ]
  },
  {
   "cell_type": "code",
   "execution_count": null,
   "id": "ba4fa57d",
   "metadata": {},
   "outputs": [],
   "source": [
    "# Third K = 0,80\n",
    "\n",
    "# What we expect\n",
    "K = 0.80\n",
    "R, C, P, t = EulerMethod(1, 3000, K)\n",
    "plt.plot(t, P)"
   ]
  },
  {
   "cell_type": "code",
   "execution_count": null,
   "id": "3e04a7c7",
   "metadata": {},
   "outputs": [],
   "source": [
    "# What the model predict\n",
    "\n",
    "forecast = []\n",
    "forecast_series = P.copy()\n",
    "for time in range(len(forecast_series) - window_size):\n",
    "  forecast.append(model.predict([forecast_series[time:time + window_size][np.newaxis], np.array([[K]])]))\n",
    "results = np.array(forecast).squeeze()\n",
    "plot_series(t[window_size:], results)"
   ]
  },
  {
   "cell_type": "code",
   "execution_count": null,
   "id": "cd8e3180",
   "metadata": {},
   "outputs": [],
   "source": [
    "# Comparison\n",
    "\n",
    "plot_series(t[window_size:], (P[window_size:], results))"
   ]
  },
  {
   "cell_type": "code",
   "execution_count": null,
   "id": "0cfbbc55",
   "metadata": {},
   "outputs": [],
   "source": [
    "K = 0.80\n",
    "R, C, P, t = EulerMethod(1, 3000, K)\n",
    "plt.plot(t, P)"
   ]
  },
  {
   "cell_type": "code",
   "execution_count": null,
   "id": "dbf5d61f",
   "metadata": {},
   "outputs": [],
   "source": [
    "train_model(P, t, K)"
   ]
  },
  {
   "cell_type": "code",
   "execution_count": null,
   "id": "cd6b2f62",
   "metadata": {},
   "outputs": [],
   "source": [
    "# Suggestion: train more with K values below 0.9\n",
    "# Save\n",
    "#model.save('model.ckpt')"
   ]
  },
  {
   "cell_type": "code",
   "execution_count": null,
   "id": "85cf374b",
   "metadata": {},
   "outputs": [],
   "source": [
    "# Load\n",
    "\n",
    "import tensorflow as tf\n",
    "\n",
    "model = tf.keras.models.load_model('model.ckpt')"
   ]
  },
  {
   "cell_type": "code",
   "execution_count": null,
   "id": "a30cabc3",
   "metadata": {},
   "outputs": [],
   "source": [
    "import matplotlib.pyplot as plt\n",
    "\n",
    "window_size = 20\n",
    "batch_size = 32\n",
    "shuffle_buffer_size = 1000"
   ]
  },
  {
   "cell_type": "code",
   "execution_count": null,
   "id": "551403d8",
   "metadata": {},
   "outputs": [],
   "source": []
  }
 ],
 "metadata": {
  "kernelspec": {
   "display_name": "Python 3 (ipykernel)",
   "language": "python",
   "name": "python3"
  },
  "language_info": {
   "codemirror_mode": {
    "name": "ipython",
    "version": 3
   },
   "file_extension": ".py",
   "mimetype": "text/x-python",
   "name": "python",
   "nbconvert_exporter": "python",
   "pygments_lexer": "ipython3",
   "version": "3.9.16"
  }
 },
 "nbformat": 4,
 "nbformat_minor": 5
}
